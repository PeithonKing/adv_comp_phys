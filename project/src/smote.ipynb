{
 "cells": [
  {
   "cell_type": "code",
   "execution_count": 1,
   "metadata": {},
   "outputs": [],
   "source": [
    "import numpy as np\n",
    "import matplotlib.pyplot as plt\n",
    "\n",
    "def stat(x, y):\n",
    "    print({\n",
    "        \"total\": y.size,\n",
    "        \"background\": (y == 0).sum(),\n",
    "        \"foreground\": (y != 0).sum(),\n",
    "    })\n",
    "    return {i:c for i, c in zip(*np.unique(y, return_counts=True))}"
   ]
  },
  {
   "cell_type": "code",
   "execution_count": 2,
   "metadata": {},
   "outputs": [
    {
     "name": "stdout",
     "output_type": "stream",
     "text": [
      "(18205, 7) (18205,)\n"
     ]
    }
   ],
   "source": [
    "# load the halo data\n",
    "point_cloud = np.load(\"./halos/62.npy\")\n",
    "x, y = point_cloud[:, :-1], point_cloud[:, -1] + 1\n",
    "# make mean of x = 0 and std of x = 1\n",
    "x = (x - x.mean(axis=0)) / x.std(axis=0)\n",
    "\n",
    "s0 = y == 0  # background\n",
    "s1 = y != 0  # foreground\n",
    "N, zeros, ones = len(y), s0.sum(), s1.sum()\n",
    "assert zeros + ones == N, f\"{zeros=} + {ones=} != {N=}\"\n",
    "\n",
    "print(x.shape, y.shape)"
   ]
  },
  {
   "cell_type": "code",
   "execution_count": 3,
   "metadata": {},
   "outputs": [
    {
     "name": "stdout",
     "output_type": "stream",
     "text": [
      "{'total': 18205, 'background': 16263, 'foreground': 1942}\n"
     ]
    },
    {
     "data": {
      "text/plain": [
       "{0.0: 16263,\n",
       " 1.0: 20,\n",
       " 2.0: 1166,\n",
       " 3.0: 184,\n",
       " 4.0: 160,\n",
       " 5.0: 146,\n",
       " 6.0: 87,\n",
       " 7.0: 62,\n",
       " 8.0: 48,\n",
       " 9.0: 27,\n",
       " 10.0: 21,\n",
       " 11.0: 21}"
      ]
     },
     "execution_count": 3,
     "metadata": {},
     "output_type": "execute_result"
    }
   ],
   "source": [
    "stat(x, y)"
   ]
  },
  {
   "cell_type": "markdown",
   "metadata": {},
   "source": [
    "## Here we can see how the `0` class (background class) has a lot more samples than all the other classes combined. Now we will use `SMOTE` to balance the dataset."
   ]
  },
  {
   "cell_type": "code",
   "execution_count": 4,
   "metadata": {},
   "outputs": [],
   "source": [
    "majority_count = (y==0).sum()\n",
    "minority_classes = np.delete(np.unique(y), 0)\n",
    "\n",
    "np.random.seed(0)\n",
    "\n",
    "while (y != 0).sum() < majority_count:  # as long as minority counts < majority counts\n",
    "    probabilities = np.array([1/np.sum(y == i) for i in minority_classes])\n",
    "    probabilities = probabilities / np.sum(probabilities)\n",
    "    \n",
    "    # chose one of the non-background classes\n",
    "    chosen_class = np.random.choice(minority_classes, p=probabilities)\n",
    "    # print(f\"Chose {chosen_class}\")\n",
    "    \n",
    "    # randomly choose two points of the chosen class\n",
    "    chosen_class_points = x[y == chosen_class]\n",
    "    # print(chosen_class_points.shape)\n",
    "    rows = np.random.choice(chosen_class_points.shape[0], 2, replace=False)\n",
    "    p1, p2 = chosen_class_points[rows]\n",
    "    # print(p1.shape, p2.shape)\n",
    "    \n",
    "    # create a new point at the midpoint of p1 and p2\n",
    "    new_point = (p1 + p2) / 2\n",
    "    new_label = chosen_class\n",
    "    \n",
    "    # add the new point to the dataset\n",
    "    x = np.vstack([x, new_point])\n",
    "    y = np.append(y, new_label)"
   ]
  },
  {
   "cell_type": "code",
   "execution_count": 5,
   "metadata": {},
   "outputs": [
    {
     "name": "stdout",
     "output_type": "stream",
     "text": [
      "{'total': 32526, 'background': 16263, 'foreground': 16263}\n"
     ]
    },
    {
     "data": {
      "text/plain": [
       "{0.0: 16263,\n",
       " 1.0: 1432,\n",
       " 2.0: 1869,\n",
       " 3.0: 1429,\n",
       " 4.0: 1430,\n",
       " 5.0: 1454,\n",
       " 6.0: 1445,\n",
       " 7.0: 1446,\n",
       " 8.0: 1412,\n",
       " 9.0: 1466,\n",
       " 10.0: 1413,\n",
       " 11.0: 1467}"
      ]
     },
     "execution_count": 5,
     "metadata": {},
     "output_type": "execute_result"
    }
   ],
   "source": [
    "stat(x, y)"
   ]
  },
  {
   "cell_type": "markdown",
   "metadata": {},
   "source": [
    "## Here we can see how the foreground and background classes now have equal number of samples (16263). The dataset is now balanced. We can also see that all the minority classes have similar representation in the dataset (close to 1400)."
   ]
  }
 ],
 "metadata": {
  "kernelspec": {
   "display_name": "Python 3",
   "language": "python",
   "name": "python3"
  },
  "language_info": {
   "codemirror_mode": {
    "name": "ipython",
    "version": 3
   },
   "file_extension": ".py",
   "mimetype": "text/x-python",
   "name": "python",
   "nbconvert_exporter": "python",
   "pygments_lexer": "ipython3",
   "version": "3.10.12"
  }
 },
 "nbformat": 4,
 "nbformat_minor": 2
}
