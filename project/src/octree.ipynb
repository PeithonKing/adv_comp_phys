{
 "cells": [
  {
   "cell_type": "code",
   "execution_count": 21,
   "metadata": {},
   "outputs": [],
   "source": [
    "import numpy as np\n",
    "import matplotlib.pyplot as plt"
   ]
  },
  {
   "cell_type": "code",
   "execution_count": 2,
   "metadata": {},
   "outputs": [],
   "source": [
    "class OctreeNode:\n",
    "    def __init__(self, center, size):\n",
    "        self.center = np.array(center)\n",
    "        self.size = size\n",
    "        # self.children = [None] * 8\n",
    "        self.points = None\n",
    "        self.feature_vector = [None] * 2  # m, feature_vector\n",
    "        self.com = [None] * 3  # center of mass\n",
    "\n",
    "    def add_points(self, points):\n",
    "        self.points = points[:, :3]\n",
    "        self.m = len(points)\n",
    "        self.com = np.mean(points[:, :3], axis=0)\n",
    "        self.feature_vector = np.mean(points[:, 3:], axis=0)\n",
    "        self.feature_vector = np.insert(self.feature_vector, 0, self.m)\n",
    "\n",
    "    def __str__(self):\n",
    "        return f\"\"\"\n",
    "center: {self.center},\n",
    "size: {self.size},\n",
    "com: {self.com},\n",
    "m: {self.m},\n",
    "feature_vector: {self.feature_vector},\n",
    "points: {self.points.shape if self.points is not None else None},\n",
    "        \"\"\"\n",
    "\n",
    "class Octree:\n",
    "    def __init__(self, point_cloud, max_particles_per_voxel, min_voxel_size):\n",
    "        center = np.mean(point_cloud[:, :3], axis=0)\n",
    "        size = np.max(np.max(point_cloud[:, :3], axis=0) - np.min(point_cloud[:, :3], axis=0))\n",
    "        self.leaf_nodes = []\n",
    "        self.stats = [0, 0]\n",
    "        self.root = self.create_octree(\n",
    "            point_cloud,\n",
    "            max_particles_per_voxel,\n",
    "            min_voxel_size*size,\n",
    "            center,\n",
    "            size\n",
    "        )\n",
    "\n",
    "    def create_octree(self, point_cloud, max_particles_per_voxel, min_voxel_size, center, size):\n",
    "        # print(point_cloud.shape)\n",
    "        node = OctreeNode(center, size)\n",
    "\n",
    "        if len(point_cloud) <= max_particles_per_voxel or size < min_voxel_size:\n",
    "            node.add_points(point_cloud)\n",
    "            self.leaf_nodes.append(node)\n",
    "            if len(point_cloud) <= max_particles_per_voxel:\n",
    "                self.stats[0] += 1\n",
    "            elif size < min_voxel_size:\n",
    "                self.stats[1] += 1\n",
    "        else:\n",
    "            sub_size = size / 2\n",
    "            subclouds = [[] for _ in range(8)]\n",
    "\n",
    "            for point in point_cloud:\n",
    "                index = 0\n",
    "                for i in range(3):\n",
    "                    if point[i] > center[i]:\n",
    "                        index |= (1 << i)\n",
    "\n",
    "                subclouds[index].append(point)\n",
    "\n",
    "            for i in range(8):\n",
    "                if len(subclouds[i]) > 0:\n",
    "                    offset = np.array([(i & 1) * sub_size, ((i >> 1) & 1) * sub_size, ((i >> 2) & 1) * sub_size])\n",
    "                    child_center = center - size / 4 + offset\n",
    "                    # node.children[i] = self.create_octree(\n",
    "                    self.create_octree(\n",
    "                        np.array(subclouds[i]),\n",
    "                        max_particles_per_voxel,\n",
    "                        min_voxel_size,\n",
    "                        child_center,\n",
    "                        sub_size\n",
    "                    )\n",
    "\n",
    "        return node"
   ]
  },
  {
   "cell_type": "code",
   "execution_count": 106,
   "metadata": {},
   "outputs": [
    {
     "name": "stdout",
     "output_type": "stream",
     "text": [
      "retaining = 50.81% of the point cloud\n",
      "before adding features, point cloud shape:  (10000000, 3)\n",
      "after adding features, point cloud shape:  (10000000, 7)\n"
     ]
    }
   ],
   "source": [
    "typ = np.float64  # default... use np.float32 for half memory usage\n",
    "\n",
    "# load the point cloud\n",
    "point_cloud = np.load(\"positions.npy\").astype(typ)\n",
    "\n",
    "# sample N points from the point cloud\n",
    "N = 1e7  # else use len(point_cloud) to use all points\n",
    "print(f\"retaining = {N*100/len(point_cloud):.2f}% of the point cloud\")\n",
    "choice = np.random.choice(len(point_cloud), int(N), replace=False)\n",
    "point_cloud = point_cloud[choice]\n",
    "print(\"before adding features, point cloud shape: \", point_cloud.shape)\n",
    "\n",
    "# add the features next to the point cloud\n",
    "num_ftrs = 4  # just for testing we used random numbers as features\n",
    "features = np.random.rand(len(point_cloud), num_ftrs).astype(typ)\n",
    "point_cloud = np.concatenate([point_cloud, features], axis=1)\n",
    "\n",
    "print(\"after adding features, point cloud shape: \", point_cloud.shape)"
   ]
  },
  {
   "cell_type": "code",
   "execution_count": 107,
   "metadata": {},
   "outputs": [],
   "source": [
    "max_particles_per_voxel = 100\n",
    "min_voxel_size = 0.001\n",
    "\n",
    "octree = Octree(point_cloud, max_particles_per_voxel, min_voxel_size)"
   ]
  },
  {
   "cell_type": "code",
   "execution_count": 108,
   "metadata": {},
   "outputs": [
    {
     "data": {
      "text/plain": [
       "[392120, 3166]"
      ]
     },
     "execution_count": 108,
     "metadata": {},
     "output_type": "execute_result"
    }
   ],
   "source": [
    "octree.stats"
   ]
  },
  {
   "cell_type": "code",
   "execution_count": 109,
   "metadata": {},
   "outputs": [
    {
     "name": "stdout",
     "output_type": "stream",
     "text": [
      "[392120, 3166] 0.8074058961542385 395286\n"
     ]
    }
   ],
   "source": [
    "print(octree.stats, octree.stats[1]*100/octree.stats[0], len(octree.leaf_nodes))"
   ]
  },
  {
   "cell_type": "code",
   "execution_count": 125,
   "metadata": {},
   "outputs": [],
   "source": [
    "masses = np.array([i.m*2 for i in octree.leaf_nodes])"
   ]
  },
  {
   "cell_type": "code",
   "execution_count": 126,
   "metadata": {},
   "outputs": [
    {
     "data": {
      "image/png": "[encoded data removed]",
      "text/plain": [
       "<Figure size 640x480 with 1 Axes>"
      ]
     },
     "metadata": {},
     "output_type": "display_data"
    }
   ],
   "source": [
    "n, bins, patches = plt.hist(masses, bins=30, color=\"tab:blue\", edgecolor=\"k\")\n",
    "# hist, bins = np.histogram(masses, bins=200)\n",
    "plt.gca().set_yscale(\"log\")\n",
    "# print(n, bins)\n",
    "# plt.xlim(0, 1000)\n",
    "plt.xlabel(\"Number of particles in a voxel\")\n",
    "plt.ylabel(\"Frequency of voxels containing that many particles\")\n",
    "plt.savefig(\"hist.pdf\")"
   ]
  },
  {
   "cell_type": "code",
   "execution_count": 128,
   "metadata": {},
   "outputs": [
    {
     "data": {
      "text/plain": [
       "388990.0"
      ]
     },
     "execution_count": 128,
     "metadata": {},
     "output_type": "execute_result"
    }
   ],
   "source": [
    "n[0]"
   ]
  },
  {
   "cell_type": "code",
   "execution_count": 129,
   "metadata": {},
   "outputs": [
    {
     "data": {
      "text/plain": [
       "6296"
      ]
     },
     "execution_count": 129,
     "metadata": {},
     "output_type": "execute_result"
    }
   ],
   "source": [
    "395286-388990"
   ]
  }
 ],
 "metadata": {
  "kernelspec": {
   "display_name": "Python 3",
   "language": "python",
   "name": "python3"
  },
  "language_info": {
   "codemirror_mode": {
    "name": "ipython",
    "version": 3
   },
   "file_extension": ".py",
   "mimetype": "text/x-python",
   "name": "python",
   "nbconvert_exporter": "python",
   "pygments_lexer": "ipython3",
   "version": "3.10.12"
  }
 },
 "nbformat": 4,
 "nbformat_minor": 2
}
