{
 "cells": [
  {
   "cell_type": "code",
   "execution_count": 1,
   "metadata": {},
   "outputs": [],
   "source": [
    "include(\"../library/utils.jl\")\n",
    "include(\"../library/equation.jl\")\n",
    "include(\"../library/integraton.jl\")\n",
    "using .Utils: truncate_to_decimal_places\n",
    "using Plots"
   ]
  },
  {
   "cell_type": "markdown",
   "metadata": {},
   "source": [
    "# Q1:\n",
    "\n",
    "**Solve exp(−x) − x = 0 using fixed-point method, accurate up to 4 places in decimal.**\n",
    "\n",
    "$$\n",
    "e^{-x} -x = 0\n",
    "$$\n",
    "\n",
    "Solving the given equation is equivalent to solving this equation:\n",
    "$$\n",
    "x = e^{-x}\n",
    "$$\n",
    "\n",
    "according to the fixed point method, let our function $\\phi(x)$ be:\n",
    "\n",
    "$$\n",
    "\\phi(x) = e^{-x}\n",
    "$$\n",
    "\n",
    "**Note:** The used `Eqn.fixed_point_iteration` function can be found in the [equation.jl](../library/equation.jl) file."
   ]
  },
  {
   "cell_type": "code",
   "execution_count": null,
   "metadata": {},
   "outputs": [],
   "source": [
    "# function phi(x)\n",
    "#     return exp(-x)\n",
    "# end\n",
    "\n",
    "# ans = Eqn.fixed_point_iteration(phi, 1)\n",
    "# print(\"Fixed point iteration: \")\n",
    "# println(truncate_to_decimal_places(ans, 4))"
   ]
  },
  {
   "cell_type": "markdown",
   "metadata": {},
   "source": [
    "# Q2\n",
    "\n",
    "Use Simpson’s rule and appropriate Gaussian quadrature to evaluate the following integral accurate up to 6 places in decimal\n",
    "\n",
    "$$\n",
    "\\int_0^1 \\sqrt{1+x^4} dx\n",
    "$$"
   ]
  },
  {
   "cell_type": "markdown",
   "metadata": {},
   "source": [
    "## Simpsons Rule"
   ]
  },
  {
   "cell_type": "code",
   "execution_count": null,
   "metadata": {},
   "outputs": [],
   "source": [
    "# function f(x)\n",
    "# \treturn sqrt(1 + x^4)\n",
    "# end\n",
    "\n",
    "# ans = Integration.simpson_rule(f, 0, 1, 4)\n",
    "# print(\"Simpson's rule: \")\n",
    "# println(truncate_to_decimal_places(ans, 6))"
   ]
  },
  {
   "cell_type": "code",
   "execution_count": null,
   "metadata": {},
   "outputs": [],
   "source": [
    "function legendre(x, n)\n",
    "    # Ensure n is a non-negative integer\n",
    "    if n < 0 || n isa AbstractFloat\n",
    "        throw(ArgumentError(\"n must be a non-negative integer\"))\n",
    "    end\n",
    "\n",
    "    # Ensure x is in the range [-1, 1]\n",
    "    # if any(x .< -1) || any(x .> 1)\n",
    "    #     throw(ArgumentError(\"x must be in the range [-1, 1]\"))\n",
    "    # end\n",
    "\n",
    "    if n == 0\n",
    "        return 1.0\n",
    "    elseif n == 1\n",
    "        return x\n",
    "    else\n",
    "        return ((2n - 1) * x * legendre(x, n-1) - (n-1) * legendre(x, n-2)) / n\n",
    "    end\n",
    "end"
   ]
  },
  {
   "cell_type": "code",
   "execution_count": null,
   "metadata": {},
   "outputs": [],
   "source": [
    "# function plot_legendre(n)\n",
    "#     x = range(0, 0.775, length=100)\n",
    "#     y = legendre.(x, n)\n",
    "#     plot(\n",
    "#         x, y,\n",
    "#         label=\"n = $n\",\n",
    "#         xlabel=\"x\",\n",
    "#         ylabel=\"\\$P_{n}(x)\\$\",\n",
    "#         title=\"Legendre polynomials of degree n = $n\",\n",
    "#         lw=2,\n",
    "#     )\n",
    "# end\n",
    "\n",
    "# plot_legendre(3)"
   ]
  },
  {
   "cell_type": "code",
   "execution_count": null,
   "metadata": {},
   "outputs": [],
   "source": [
    "function legendre_derivative(x, n, h = 1e-6)\n",
    "    # if x == 1.0 || x == -1.0\n",
    "    #     throw(ArgumentError(\"x cannot be 1 or -1\"))\n",
    "    # end\n",
    "    return (legendre.(x+h/2, n) - legendre.(x-h/2, n)) / h\n",
    "end"
   ]
  },
  {
   "cell_type": "code",
   "execution_count": null,
   "metadata": {},
   "outputs": [],
   "source": [
    "# function plot_legendre(n)\n",
    "#     x = range(-0.99, 0.99, length=100)\n",
    "#     y = legendre_derivative.(x, n)\n",
    "#     # y = legendre.(x, n)\n",
    "#     plot(\n",
    "#         x, y,\n",
    "#         # label=\"n = $n\",\n",
    "#         # xlabel=\"x\",\n",
    "#         # ylabel=\"\\$P_{n}(x)\\$\",\n",
    "#         # title=\"Legendre polynomials of degree n = $n\",\n",
    "#         lw=2,\n",
    "#     )\n",
    "# end\n",
    "\n",
    "# plot_legendre(3)"
   ]
  },
  {
   "cell_type": "code",
   "execution_count": null,
   "metadata": {},
   "outputs": [],
   "source": [
    "Integration.find_legendre_roots(3)"
   ]
  },
  {
   "cell_type": "code",
   "execution_count": null,
   "metadata": {},
   "outputs": [],
   "source": [
    "Eqn.solve_newton_raphson(x -> legendre(x, 3))"
   ]
  }
 ],
 "metadata": {
  "kernelspec": {
   "display_name": "Julia 1.8.1",
   "language": "julia",
   "name": "julia-1.8"
  },
  "language_info": {
   "file_extension": ".jl",
   "mimetype": "application/julia",
   "name": "julia",
   "version": "1.8.1"
  }
 },
 "nbformat": 4,
 "nbformat_minor": 2
}
