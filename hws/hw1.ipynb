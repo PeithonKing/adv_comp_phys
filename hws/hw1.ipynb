{
 "cells": [
  {
   "cell_type": "code",
   "execution_count": 1,
   "metadata": {},
   "outputs": [],
   "source": [
    "include(\"../library/utils.jl\")\n",
    "include(\"../library/equation.jl\")\n",
    "include(\"../library/integraton.jl\")\n",
    "using .Utils: truncate_to_decimal_places\n",
    "using Plots"
   ]
  },
  {
   "cell_type": "markdown",
   "metadata": {},
   "source": [
    "# Q1:\n",
    "\n",
    "**Solve exp(−x) − x = 0 using fixed-point method, accurate up to 4 places in decimal.**\n",
    "\n",
    "$$\n",
    "e^{-x} -x = 0\n",
    "$$\n",
    "\n",
    "Solving the given equation is equivalent to solving this equation:\n",
    "$$\n",
    "x = e^{-x}\n",
    "$$\n",
    "\n",
    "according to the fixed point method, let our function $\\phi(x)$ be:\n",
    "\n",
    "$$\n",
    "\\phi(x) = e^{-x}\n",
    "$$\n",
    "\n",
    "**Note:** The used `Eqn.fixed_point_iteration` function can be found in the [equation.jl](../library/equation.jl) file."
   ]
  },
  {
   "cell_type": "code",
   "execution_count": 2,
   "metadata": {},
   "outputs": [
    {
     "name": "stdout",
     "output_type": "stream",
     "text": [
      "Fixed point iteration: 0.5671\n"
     ]
    }
   ],
   "source": [
    "function phi(x)\n",
    "    return exp(-x)\n",
    "end\n",
    "\n",
    "ans = Eqn.fixed_point_iteration(phi, 1)\n",
    "print(\"Fixed point iteration: \")\n",
    "println(truncate_to_decimal_places(ans, 4))"
   ]
  },
  {
   "cell_type": "markdown",
   "metadata": {},
   "source": [
    "# Q2\n",
    "\n",
    "Use Simpson’s rule and appropriate Gaussian quadrature to evaluate the following integral accurate up to 6 places in decimal\n",
    "\n",
    "$$\n",
    "\\int_0^1 \\sqrt{1+x^4} dx\n",
    "$$"
   ]
  },
  {
   "cell_type": "code",
   "execution_count": 9,
   "metadata": {},
   "outputs": [
    {
     "name": "stdout",
     "output_type": "stream",
     "text": [
      "Simpson's rule: 1.089429\n",
      "Gaussian quadrature: 1.089423\n"
     ]
    }
   ],
   "source": [
    "function f(x)\n",
    "\treturn sqrt(1 + x^4)\n",
    "end\n",
    "\n",
    "simp = Integration.simpson_rule(f, 0, 1, 4)\n",
    "print(\"Simpson's rule: \")\n",
    "println(truncate_to_decimal_places(simp, 6))\n",
    "\n",
    "gquad = Integration.gaussian_quadrature(f, 0, 1, 4)\n",
    "print(\"Gaussian quadrature: \")\n",
    "println(truncate_to_decimal_places(gquad, 6))\n",
    "# print()"
   ]
  },
  {
   "cell_type": "markdown",
   "metadata": {},
   "source": [
    "# Q3\n",
    "Solve the following ODE with RK4 with interval sizes 0.5, 0.2, 0.05 and 0.01\n",
    "\n",
    "$$\n",
    "\\frac{dy}{dx} = \\frac{5x^2 - y}{e^{x+y}}\n",
    "$$\n",
    "\n",
    "where $y(0) = 1$\n",
    "\n",
    "Tabulate the results."
   ]
  },
  {
   "cell_type": "code",
   "execution_count": 11,
   "metadata": {},
   "outputs": [
    {
     "data": {
      "text/plain": [
       "f (generic function with 2 methods)"
      ]
     },
     "metadata": {},
     "output_type": "display_data"
    }
   ],
   "source": [
    "function f(x, y)\n",
    "\treturn (5*x^2 - y) / exp(x + y)\n",
    "end\n",
    "\n"
   ]
  }
 ],
 "metadata": {
  "kernelspec": {
   "display_name": "Julia 1.8.1",
   "language": "julia",
   "name": "julia-1.8"
  },
  "language_info": {
   "file_extension": ".jl",
   "mimetype": "application/julia",
   "name": "julia",
   "version": "1.8.1"
  }
 },
 "nbformat": 4,
 "nbformat_minor": 2
}
