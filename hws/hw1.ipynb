{
 "cells": [
  {
   "cell_type": "code",
   "execution_count": 1,
   "metadata": {},
   "outputs": [],
   "source": [
    "# # get truncate_to_decimal_places from the utils file\n",
    "include(\"../library/utils.jl\")\n",
    "\n",
    "# # \n",
    "include(\"../library/eqn.jl\")\n",
    "\n",
    "\n",
    "using .Utils: truncate_to_decimal_places"
   ]
  },
  {
   "cell_type": "markdown",
   "metadata": {},
   "source": [
    "# Q1\n",
    "\n",
    "Given Equation:\n",
    "\n",
    "$$\n",
    "e^{-x} -x = 0\n",
    "$$\n",
    "\n",
    "Solving the given equation is equivalent to solving this equation:\n",
    "$$\n",
    "x = e^{-x}\n",
    "$$\n",
    "\n",
    "according to the fixed point method, our function $\\phi(x)$ is:\n",
    "\n",
    "$$\n",
    "\\phi(x) = e^{-x}\n",
    "$$"
   ]
  },
  {
   "cell_type": "code",
   "execution_count": 2,
   "metadata": {},
   "outputs": [
    {
     "name": "stdout",
     "output_type": "stream",
     "text": [
      "Fixed point iteration: 0.5671\n"
     ]
    }
   ],
   "source": [
    "function phi(x)\n",
    "    return exp(-x)\n",
    "end\n",
    "\n",
    "ans = Eqn.fixed_point_iteration(phi, 1)\n",
    "print(\"Fixed point iteration: \")\n",
    "println(truncate_to_decimal_places(ans, 4))"
   ]
  }
 ],
 "metadata": {
  "kernelspec": {
   "display_name": "Julia 1.8.1",
   "language": "julia",
   "name": "julia-1.8"
  },
  "language_info": {
   "file_extension": ".jl",
   "mimetype": "application/julia",
   "name": "julia",
   "version": "1.8.1"
  }
 },
 "nbformat": 4,
 "nbformat_minor": 2
}
