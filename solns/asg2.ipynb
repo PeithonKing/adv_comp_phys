{
 "cells": [
  {
   "cell_type": "markdown",
   "metadata": {},
   "source": [
    "# Q1: Solve the following linear equation by Cholesky decomposition (check for symmetric matrix) and Gauss-Seidel to a precision of $10^{-6}$.\n",
    "\n",
    "$$\n",
    "\\begin{pmatrix}\n",
    "4 & -1 & 0 & -1 & 0 & 0\\\\\n",
    "-1 & 4 & -1 & 0 & -1 & 0\\\\\n",
    "0 & -1 & 4 & 0 & 0 & -1\\\\\n",
    "-1 & 0 & 0 & 4 & -1 & 0\\\\\n",
    "0 & -1 & 0 & -1 & 4 & -1\\\\\n",
    "0 & 0 & -1 & 0 & -1 & 4\n",
    "\\end{pmatrix}\n",
    "\n",
    "\n",
    "\\begin{pmatrix}\n",
    "x_1\\\\\n",
    "x_2\\\\\n",
    "x_3\\\\\n",
    "x_4\\\\\n",
    "x_5\\\\\n",
    "x_6\n",
    "\\end{pmatrix}\n",
    "\n",
    "=\n",
    "\n",
    "\\begin{pmatrix}\n",
    "2\\\\\n",
    "1\\\\\n",
    "2\\\\\n",
    "2\\\\\n",
    "1\\\\\n",
    "2\n",
    "\\end{pmatrix}\n",
    "$$"
   ]
  },
  {
   "cell_type": "code",
   "execution_count": 24,
   "metadata": {},
   "outputs": [],
   "source": [
    "from library.matrix import Matrix\n",
    "from library.linear_equations import gauss_seidel, Cholesky_Decomposition\n",
    "from library.linear_equations import forward_propagation, backward_propagation\n",
    "from library.basic_functions import truncate_to_decimal_places as trunc"
   ]
  },
  {
   "cell_type": "code",
   "execution_count": 25,
   "metadata": {},
   "outputs": [],
   "source": [
    "precision = 3\n",
    "\n",
    "A = Matrix(\n",
    "    [\n",
    "        [4, -1, 0, -1, 0, 0],\n",
    "        [-1, 4, -1, 0, -1, 0],\n",
    "        [0, -1, 4, 0, 0, -1],\n",
    "        [-1, 0, 0, 4, -1, 0],\n",
    "        [0, -1, 0, -1, 4, -1],\n",
    "        [0, 0, -1, 0, -1, 4],\n",
    "    ], \"A\", precision\n",
    ")\n",
    "\n",
    "B = Matrix(\n",
    "    [\n",
    "        [2],\n",
    "        [1],\n",
    "        [2],\n",
    "        [2],\n",
    "        [1],\n",
    "        [2]\n",
    "\t], \"B\", precision\n",
    ")"
   ]
  },
  {
   "cell_type": "code",
   "execution_count": 26,
   "metadata": {},
   "outputs": [
    {
     "name": "stdout",
     "output_type": "stream",
     "text": [
      "x = |0.999|\n",
      "    |0.999|\n",
      "    |1.000|\n",
      "    |1.000|\n",
      "    |1.000|\n",
      "    |0.999|\n",
      "\n"
     ]
    }
   ],
   "source": [
    "L = Cholesky_Decomposition(A)\n",
    "y = forward_propagation(L, B)\n",
    "x = backward_propagation(L.T(), y)\n",
    "print(x)"
   ]
  },
  {
   "cell_type": "markdown",
   "metadata": {},
   "source": [
    "## Gauss-Seidel"
   ]
  },
  {
   "cell_type": "code",
   "execution_count": 27,
   "metadata": {},
   "outputs": [],
   "source": [
    "precision = 3\n",
    "\n",
    "A = Matrix(\n",
    "    [\n",
    "        [4, -1, 0, -1, 0, 0],\n",
    "        [-1, 4, -1, 0, -1, 0],\n",
    "        [0, -1, 4, 0, 0, -1],\n",
    "        [-1, 0, 0, 4, -1, 0],\n",
    "        [0, -1, 0, -1, 4, -1],\n",
    "        [0, 0, -1, 0, -1, 4],\n",
    "    ], \"A\", precision\n",
    ")\n",
    "\n",
    "B = Matrix(\n",
    "    [\n",
    "        [2],\n",
    "        [1],\n",
    "        [2],\n",
    "        [2],\n",
    "        [1],\n",
    "        [2]\n",
    "\t], \"B\", precision\n",
    ")"
   ]
  },
  {
   "cell_type": "code",
   "execution_count": 28,
   "metadata": {},
   "outputs": [
    {
     "name": "stdout",
     "output_type": "stream",
     "text": [
      "x = |0.999999|\n",
      "    |0.999999|\n",
      "    |0.999999|\n",
      "    |0.999999|\n",
      "    |0.999999|\n",
      "    |0.999999|\n",
      "\n",
      "number of iterations for the required precision: 6\n"
     ]
    }
   ],
   "source": [
    "x, i = gauss_seidel(A, B, tol = 1e-6, seed=0.1, max_iter = 100)\n",
    "print(x)\n",
    "print(\"number of iterations for the required precision:\", i)"
   ]
  },
  {
   "cell_type": "code",
   "execution_count": 29,
   "metadata": {},
   "outputs": [
    {
     "name": "stdout",
     "output_type": "stream",
     "text": [
      "True\n"
     ]
    }
   ],
   "source": [
    "# just checking\n",
    "print(A@x==B)"
   ]
  },
  {
   "cell_type": "markdown",
   "metadata": {},
   "source": [
    "# Q2: Solve the following linear equation by Gauss-Jordon and LU factorization.\n",
    "\n",
    "$$\n",
    "\\begin{pmatrix}\n",
    "0 & 4 & 2 & 0 & 1\\\\\n",
    "4 & 0 & 4 & 10 & 1\\\\\n",
    "2 & 5 & 1 & 3 & 13\\\\\n",
    "11 & 3 & 0 & 1 & 2\\\\\n",
    "3 & 2 & 7 & 1 & 0\n",
    "\\end{pmatrix}\n",
    "\n",
    "\n",
    "\\begin{pmatrix}\n",
    "x_1\\\\\n",
    "x_2\\\\\n",
    "x_3\\\\\n",
    "x_4\\\\\n",
    "x_5\n",
    "\\end{pmatrix}\n",
    "\n",
    "=\n",
    "\n",
    "\\begin{pmatrix}\n",
    "20\\\\\n",
    "15\\\\\n",
    "92\\\\\n",
    "51\\\\\n",
    "15\n",
    "\\end{pmatrix}\n",
    "$$\n",
    "\n",
    "for doing this we had to change the positions of the different rows to make the matrix diagonally dominant."
   ]
  },
  {
   "cell_type": "code",
   "execution_count": 30,
   "metadata": {},
   "outputs": [],
   "source": [
    "from library.linear_equations import gauss_jordan\n",
    "from library.linear_equations import LU_Decomposition"
   ]
  },
  {
   "cell_type": "code",
   "execution_count": 31,
   "metadata": {},
   "outputs": [],
   "source": [
    "# defining the number of places to show after the decimal point\n",
    "precision = 3\n",
    "\n",
    "# Defining the Given Matrices\n",
    "A = Matrix(\n",
    "    [\n",
    "        [ 2, 5, 1,  3, 13],  # row 2\n",
    "        [ 0, 4, 2,  0,  1],  # row 0\n",
    "        [ 4, 0, 4, 10,  1],  # row 1\n",
    "        [ 3, 2, 7,  1,  0],  # row 4\n",
    "        [11, 3, 0,  1,  2],  # row 3\n",
    "    ], \"A\", precision\n",
    ")\n",
    "\n",
    "B = Matrix(\n",
    "    [\n",
    "        [92],  # row 2\n",
    "        [20],  # row 0\n",
    "        [15],  # row 1\n",
    "        [15],  # row 4\n",
    "        [51],  # row 3\n",
    "    ], \"B\", precision\n",
    ")"
   ]
  },
  {
   "cell_type": "code",
   "execution_count": 32,
   "metadata": {},
   "outputs": [
    {
     "name": "stdout",
     "output_type": "stream",
     "text": [
      "Gauss Jordan Solution\n",
      "x0 =  3.711\n",
      "x1 = -0.054\n",
      "x2 =  2.674\n",
      "x3 =  5.259\n",
      "x4 = -0.075\n"
     ]
    }
   ],
   "source": [
    "x = gauss_jordan(A, B)\n",
    "sol = x[::, -1]\n",
    "\n",
    "print(\"Gauss Jordan Solution\")\n",
    "x2, x0, x1, x4, x3 = sol.T().mat[0]  # unpacking in correct order\n",
    "print(f\"x0 = {trunc(x0, 3):>6}\")\n",
    "print(f\"x1 = {trunc(x1, 3):>6}\")\n",
    "print(f\"x2 = {trunc(x2, 3):>6}\")\n",
    "print(f\"x3 = {trunc(x3, 3):>6}\")\n",
    "print(f\"x4 = {trunc(x4, 3):>6}\")"
   ]
  },
  {
   "cell_type": "code",
   "execution_count": 38,
   "metadata": {},
   "outputs": [],
   "source": [
    "# defining the number of places to show after the decimal point\n",
    "precision = 3\n",
    "\n",
    "# Defining the Given Matrices again because gauss jordan did inplace operations and changed the matrices\n",
    "A = Matrix(\n",
    "    [\n",
    "        [ 2, 5, 1,  3, 13],  # row 2\n",
    "        [ 0, 4, 2,  0,  1],  # row 0\n",
    "        [ 4, 0, 4, 10,  1],  # row 1\n",
    "        [ 3, 2, 7,  1,  0],  # row 4\n",
    "        [11, 3, 0,  1,  2],  # row 3\n",
    "    ], \"A\", precision\n",
    ")\n",
    "\n",
    "B = Matrix(\n",
    "    [\n",
    "        [92],  # row 2\n",
    "        [20],  # row 0\n",
    "        [15],  # row 1\n",
    "        [15],  # row 4\n",
    "        [51],  # row 3\n",
    "    ], \"B\", precision\n",
    ")"
   ]
  },
  {
   "cell_type": "code",
   "execution_count": 39,
   "metadata": {},
   "outputs": [
    {
     "name": "stdout",
     "output_type": "stream",
     "text": [
      "LU factorization Solution\n",
      "x0 =  3.711\n",
      "x1 = -0.054\n",
      "x2 =  2.674\n",
      "x3 =  5.259\n",
      "x4 = -0.075\n"
     ]
    }
   ],
   "source": [
    "L, U = LU_Decomposition(A)\n",
    "y = forward_propagation(L, B)\n",
    "x = backward_propagation(U, y)\n",
    "\n",
    "print(\"LU factorization Solution\")\n",
    "x2, x0, x1, x4, x3 = x.T().mat[0]  # unpacking in correct order\n",
    "print(f\"x0 = {trunc(x0, 3):>6}\")\n",
    "print(f\"x1 = {trunc(x1, 3):>6}\")\n",
    "print(f\"x2 = {trunc(x2, 3):>6}\")\n",
    "print(f\"x3 = {trunc(x3, 3):>6}\")\n",
    "print(f\"x4 = {trunc(x4, 3):>6}\")"
   ]
  }
 ],
 "metadata": {
  "kernelspec": {
   "display_name": ".comp",
   "language": "python",
   "name": "python3"
  },
  "language_info": {
   "codemirror_mode": {
    "name": "ipython",
    "version": 3
   },
   "file_extension": ".py",
   "mimetype": "text/x-python",
   "name": "python",
   "nbconvert_exporter": "python",
   "pygments_lexer": "ipython3",
   "version": "3.10.12"
  }
 },
 "nbformat": 4,
 "nbformat_minor": 2
}
