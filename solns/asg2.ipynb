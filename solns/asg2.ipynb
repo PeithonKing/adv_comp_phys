{
 "cells": [
  {
   "cell_type": "markdown",
   "metadata": {},
   "source": [
    "# Q1: Solve the following linear equation by Cholesky decomposition (check for symmetric matrix) and Gauss-Seidel to a precision of $10^{-6}$.\n",
    "\n",
    "$$\n",
    "\\begin{pmatrix}\n",
    "4 & -1 & 0 & -1 & 0 & 0\\\\\n",
    "-1 & 4 & -1 & 0 & -1 & 0\\\\\n",
    "0 & -1 & 4 & 0 & 0 & -1\\\\\n",
    "-1 & 0 & 0 & 4 & -1 & 0\\\\\n",
    "0 & -1 & 0 & -1 & 4 & -1\\\\\n",
    "0 & 0 & -1 & 0 & -1 & 4\n",
    "\\end{pmatrix}\n",
    "\n",
    "\n",
    "\\begin{pmatrix}\n",
    "x_1\\\\\n",
    "x_2\\\\\n",
    "x_3\\\\\n",
    "x_4\\\\\n",
    "x_5\\\\\n",
    "x_6\n",
    "\\end{pmatrix}\n",
    "\n",
    "=\n",
    "\n",
    "\\begin{pmatrix}\n",
    "2\\\\\n",
    "1\\\\\n",
    "2\\\\\n",
    "2\\\\\n",
    "1\\\\\n",
    "2\n",
    "\\end{pmatrix}\n",
    "$$"
   ]
  },
  {
   "cell_type": "code",
   "execution_count": 1,
   "metadata": {},
   "outputs": [],
   "source": [
    "from library.matrix import Matrix\n",
    "from library.linear_equations import gauss_seidel, Cholesky_Decomposition\n",
    "from library.linear_equations import forward_propagation, backward_propagation\n",
    "from library.basic_functions import truncate_to_decimal_places as trunc\n",
    "\n",
    "import numpy as np"
   ]
  },
  {
   "cell_type": "code",
   "execution_count": 2,
   "metadata": {},
   "outputs": [],
   "source": [
    "precision = 3\n",
    "\n",
    "A = Matrix(\n",
    "    [\n",
    "        [4, -1, 0, -1, 0, 0],\n",
    "        [-1, 4, -1, 0, -1, 0],\n",
    "        [0, -1, 4, 0, 0, -1],\n",
    "        [-1, 0, 0, 4, -1, 0],\n",
    "        [0, -1, 0, -1, 4, -1],\n",
    "        [0, 0, -1, 0, -1, 4],\n",
    "    ], \"A\", precision\n",
    ")\n",
    "\n",
    "B = Matrix(\n",
    "    [\n",
    "        [2],\n",
    "        [1],\n",
    "        [2],\n",
    "        [2],\n",
    "        [1],\n",
    "        [2]\n",
    "    ], \"B\", precision\n",
    ")"
   ]
  },
  {
   "cell_type": "code",
   "execution_count": 3,
   "metadata": {},
   "outputs": [
    {
     "name": "stdout",
     "output_type": "stream",
     "text": [
      "x = |0.999|\n",
      "    |0.999|\n",
      "    |1.000|\n",
      "    |1.000|\n",
      "    |1.000|\n",
      "    |0.999|\n",
      "\n"
     ]
    }
   ],
   "source": [
    "L = Cholesky_Decomposition(A)\n",
    "y = forward_propagation(L, B)\n",
    "x = backward_propagation(L.T(), y)\n",
    "print(x)"
   ]
  },
  {
   "cell_type": "markdown",
   "metadata": {},
   "source": [
    "## Gauss-Seidel"
   ]
  },
  {
   "cell_type": "code",
   "execution_count": 4,
   "metadata": {},
   "outputs": [],
   "source": [
    "precision = 3\n",
    "\n",
    "A = Matrix(\n",
    "    [\n",
    "        [4, -1, 0, -1, 0, 0],\n",
    "        [-1, 4, -1, 0, -1, 0],\n",
    "        [0, -1, 4, 0, 0, -1],\n",
    "        [-1, 0, 0, 4, -1, 0],\n",
    "        [0, -1, 0, -1, 4, -1],\n",
    "        [0, 0, -1, 0, -1, 4],\n",
    "    ], \"A\", precision\n",
    ")\n",
    "\n",
    "B = Matrix(\n",
    "    [\n",
    "        [2],\n",
    "        [1],\n",
    "        [2],\n",
    "        [2],\n",
    "        [1],\n",
    "        [2]\n",
    "    ], \"B\", precision\n",
    ")"
   ]
  },
  {
   "cell_type": "code",
   "execution_count": 5,
   "metadata": {},
   "outputs": [
    {
     "name": "stdout",
     "output_type": "stream",
     "text": [
      "x = |0.999999|\n",
      "    |0.999999|\n",
      "    |0.999999|\n",
      "    |0.999999|\n",
      "    |0.999999|\n",
      "    |0.999999|\n",
      "\n",
      "number of iterations for the required precision: 6\n"
     ]
    }
   ],
   "source": [
    "x, i = gauss_seidel(A, B, tol = 1e-6, seed=0.1, max_iter = 100)\n",
    "print(x)\n",
    "print(\"number of iterations for the required precision:\", i)"
   ]
  },
  {
   "cell_type": "code",
   "execution_count": 6,
   "metadata": {},
   "outputs": [
    {
     "name": "stdout",
     "output_type": "stream",
     "text": [
      "True\n"
     ]
    }
   ],
   "source": [
    "# just checking\n",
    "print(A@x==B)"
   ]
  },
  {
   "cell_type": "markdown",
   "metadata": {},
   "source": [
    "# Q2: Solve the following linear equation by Gauss-Jordon and LU factorization.\n",
    "\n",
    "$$\n",
    "\\begin{pmatrix}\n",
    "0 & 4 & 2 & 0 & 1\\\\\n",
    "4 & 0 & 4 & 10 & 1\\\\\n",
    "2 & 5 & 1 & 3 & 13\\\\\n",
    "11 & 3 & 0 & 1 & 2\\\\\n",
    "3 & 2 & 7 & 1 & 0\n",
    "\\end{pmatrix}\n",
    "\n",
    "\n",
    "\\begin{pmatrix}\n",
    "x_1\\\\\n",
    "x_2\\\\\n",
    "x_3\\\\\n",
    "x_4\\\\\n",
    "x_5\n",
    "\\end{pmatrix}\n",
    "\n",
    "=\n",
    "\n",
    "\\begin{pmatrix}\n",
    "20\\\\\n",
    "15\\\\\n",
    "92\\\\\n",
    "51\\\\\n",
    "15\n",
    "\\end{pmatrix}\n",
    "$$\n",
    "\n",
    "for doing this we had to change the positions of the different rows to make the matrix diagonally dominant."
   ]
  },
  {
   "cell_type": "code",
   "execution_count": 7,
   "metadata": {},
   "outputs": [],
   "source": [
    "from library.linear_equations import gauss_jordan\n",
    "from library.linear_equations import LU_Decomposition"
   ]
  },
  {
   "cell_type": "code",
   "execution_count": 8,
   "metadata": {},
   "outputs": [],
   "source": [
    "# defining the number of places to show after the decimal point\n",
    "precision = 3\n",
    "\n",
    "# Defining the Given Matrices\n",
    "A = Matrix(\n",
    "    [\n",
    "        [ 2, 5, 1,  3, 13],  # row 2\n",
    "        [ 0, 4, 2,  0,  1],  # row 0\n",
    "        [ 4, 0, 4, 10,  1],  # row 1\n",
    "        [ 3, 2, 7,  1,  0],  # row 4\n",
    "        [11, 3, 0,  1,  2],  # row 3\n",
    "    ], \"A\", precision\n",
    ")\n",
    "\n",
    "B = Matrix(\n",
    "    [\n",
    "        [92],  # row 2\n",
    "        [20],  # row 0\n",
    "        [15],  # row 1\n",
    "        [15],  # row 4\n",
    "        [51],  # row 3\n",
    "    ], \"B\", precision\n",
    ")"
   ]
  },
  {
   "cell_type": "code",
   "execution_count": 9,
   "metadata": {},
   "outputs": [
    {
     "name": "stdout",
     "output_type": "stream",
     "text": [
      "Gauss Jordan Solution\n",
      "x0 =  2.674\n",
      "x1 =  3.711\n",
      "x2 = -0.054\n",
      "x3 = -0.075\n",
      "x4 =  5.259\n"
     ]
    }
   ],
   "source": [
    "x = gauss_jordan(A, B)\n",
    "sol = x[::, -1]\n",
    "\n",
    "print(\"Gauss Jordan Solution\")\n",
    "x0, x1, x2, x3, x4 = sol.T().mat[0]  # unpacking in correct order\n",
    "print(f\"x0 = {trunc(x0, 3):>6}\")\n",
    "print(f\"x1 = {trunc(x1, 3):>6}\")\n",
    "print(f\"x2 = {trunc(x2, 3):>6}\")\n",
    "print(f\"x3 = {trunc(x3, 3):>6}\")\n",
    "print(f\"x4 = {trunc(x4, 3):>6}\")"
   ]
  },
  {
   "cell_type": "code",
   "execution_count": 10,
   "metadata": {},
   "outputs": [],
   "source": [
    "# defining the number of places to show after the decimal point\n",
    "precision = 3\n",
    "\n",
    "# Defining the Given Matrices again because gauss jordan did inplace operations and changed the matrices\n",
    "A = Matrix(\n",
    "    [\n",
    "        [ 2, 5, 1,  3, 13],  # row 2\n",
    "        [ 0, 4, 2,  0,  1],  # row 0\n",
    "        [ 4, 0, 4, 10,  1],  # row 1\n",
    "        [ 3, 2, 7,  1,  0],  # row 4\n",
    "        [11, 3, 0,  1,  2],  # row 3\n",
    "    ], \"A\", precision\n",
    ")\n",
    "\n",
    "B = Matrix(\n",
    "    [\n",
    "        [92],  # row 2\n",
    "        [20],  # row 0\n",
    "        [15],  # row 1\n",
    "        [15],  # row 4\n",
    "        [51],  # row 3\n",
    "    ], \"B\", precision\n",
    ")"
   ]
  },
  {
   "cell_type": "code",
   "execution_count": 11,
   "metadata": {},
   "outputs": [
    {
     "name": "stdout",
     "output_type": "stream",
     "text": [
      "LU factorization Solution\n",
      "x0 =  2.674\n",
      "x1 =  3.711\n",
      "x2 = -0.054\n",
      "x3 = -0.075\n",
      "x4 =  5.259\n"
     ]
    }
   ],
   "source": [
    "L, U = LU_Decomposition(A)\n",
    "y = forward_propagation(L, B)\n",
    "x = backward_propagation(U, y)\n",
    "\n",
    "print(\"LU factorization Solution\")\n",
    "x0, x1, x2, x3, x4 = x.T().mat[0]  # unpacking in correct order\n",
    "print(f\"x0 = {trunc(x0, 3):>6}\")\n",
    "print(f\"x1 = {trunc(x1, 3):>6}\")\n",
    "print(f\"x2 = {trunc(x2, 3):>6}\")\n",
    "print(f\"x3 = {trunc(x3, 3):>6}\")\n",
    "print(f\"x4 = {trunc(x4, 3):>6}\")"
   ]
  },
  {
   "cell_type": "markdown",
   "metadata": {},
   "source": [
    "# Q3"
   ]
  },
  {
   "cell_type": "code",
   "execution_count": 12,
   "metadata": {},
   "outputs": [],
   "source": [
    "from library.linear_equations import conjugate_gradient"
   ]
  },
  {
   "cell_type": "code",
   "execution_count": 13,
   "metadata": {},
   "outputs": [],
   "source": [
    "A = np.array(\n",
    "    [\n",
    "        [ 2,-3, 0, 0, 0, 0],\n",
    "        [-1, 4,-1, 0,-1, 0],\n",
    "        [ 0,-1, 4, 0, 0,-1],\n",
    "        [ 0, 0, 0, 2,-3, 0],\n",
    "        [ 0,-1, 0,-1, 4,-1],\n",
    "        [ 0, 0,-1, 0,-1, 4]\n",
    "    ]\n",
    ")"
   ]
  },
  {
   "cell_type": "code",
   "execution_count": 14,
   "metadata": {},
   "outputs": [
    {
     "name": "stdout",
     "output_type": "stream",
     "text": [
      "A_inv = |0.9350  0.8876  0.2597  0.2131  0.4155  0.1688|\n",
      "        |0.2900  0.5917  0.1731  0.1393  0.2770  0.1127|\n",
      "        |0.0865  0.1886  0.3203  0.0563  0.1125  0.1083|\n",
      "        |0.2078  0.2893  0.1688  0.9310  0.8701  0.2614|\n",
      "        |0.1385  0.2301  0.1125  0.2880  0.5800  0.1739|\n",
      "        |0.0562  0.0881  0.1082  0.0856  0.1731  0.3204|\n",
      "\n"
     ]
    }
   ],
   "source": [
    "# invert the matrix A... to do this, we are takng the B matrix to be the identity matrix\n",
    "B = np.eye(*A.shape)\n",
    "A_inv = np.zeros(A.shape)\n",
    "for i in range(B.shape[0]):\n",
    "    x, ite = conjugate_gradient(A, B[:, i:i+1], x0=np.random.rand(len(B), 1), tol=1e-4, max_iter=100)\n",
    "    A_inv[:, i] = x[:, 0]\n",
    "print(Matrix(A_inv, \"A_inv\", 4))"
   ]
  },
  {
   "cell_type": "code",
   "execution_count": 15,
   "metadata": {},
   "outputs": [],
   "source": [
    "A = np.array(\n",
    "    [\n",
    "        [ 2,-1, 0, 0, 0, 0],\n",
    "        [-1, 4,-1, 0,-1, 0],\n",
    "        [ 0,-1, 4, 0, 0,-1],\n",
    "        [ 0, 0, 0, 2,-1, 0],\n",
    "        [ 0,-1, 0,-1, 4,-1],\n",
    "        [ 0, 0,-1, 0,-1, 4]\n",
    "    ]\n",
    ")\n",
    "\n",
    "B = np.array(\n",
    "    [\n",
    "        [-5/3],\n",
    "        [+2/3],\n",
    "        [+3/1],\n",
    "        [-4/3],\n",
    "        [-1/3],\n",
    "        [+5/3]\n",
    "    ]\n",
    ")"
   ]
  },
  {
   "cell_type": "code",
   "execution_count": 16,
   "metadata": {},
   "outputs": [],
   "source": [
    "x = np.linalg.solve(A, B)"
   ]
  },
  {
   "cell_type": "code",
   "execution_count": 17,
   "metadata": {},
   "outputs": [
    {
     "data": {
      "text/plain": [
       "array([[-0.72450805],\n",
       "       [ 0.21765057],\n",
       "       [ 0.96660704],\n",
       "       [-0.68574836],\n",
       "       [-0.03816339],\n",
       "       [ 0.64877758]])"
      ]
     },
     "execution_count": 17,
     "metadata": {},
     "output_type": "execute_result"
    }
   ],
   "source": [
    "x"
   ]
  },
  {
   "cell_type": "code",
   "execution_count": 18,
   "metadata": {},
   "outputs": [
    {
     "name": "stdout",
     "output_type": "stream",
     "text": [
      "Conjugate Gradient Solution (took 6 iterations to converge)\n",
      "x0 = -0.7246\n",
      "x1 =  0.2176\n",
      "x2 =  0.9666\n",
      "x3 = -0.6858\n",
      "x4 = -0.0382\n",
      "x5 =  0.6487\n"
     ]
    }
   ],
   "source": [
    "x, itr = conjugate_gradient(A, B, x0=np.random.rand(len(B), 1), tol=1e-4, max_iter=10)\n",
    "print(f\"Conjugate Gradient Solution (took {itr} iterations to converge)\")\n",
    "x0, x1, x2, x3, x4, x5 = x[:, 0]  # unpacking in correct order\n",
    "print(f\"x0 = {trunc(x0.item(), 4):>7}\")\n",
    "print(f\"x1 = {trunc(x1.item(), 4):>7}\")\n",
    "print(f\"x2 = {trunc(x2.item(), 4):>7}\")\n",
    "print(f\"x3 = {trunc(x3.item(), 4):>7}\")\n",
    "print(f\"x4 = {trunc(x4.item(), 4):>7}\")\n",
    "print(f\"x5 = {trunc(x5.item(), 4):>7}\")"
   ]
  },
  {
   "cell_type": "markdown",
   "metadata": {},
   "source": [
    "# Q4\n",
    "\n",
    "$A = \\frac{1}{2} \\left( \\delta_{x+\\mu, y} + \\delta_{x-\\mu, y} - 2\\delta_{x, y} \\right) + m^2\\delta_{x, y}$\n",
    "\n",
    "to solve this equation without storing the whole 50x50 matrix, we defined it as a function (not a matrix) that takes i, j as input and returns the value of the matrix at that location.\n",
    "\n",
    "Although we didn't store the matrix which takes $n^2$ space, we still had to store a couple of vectors which takes $n$ space each. So, the space complexity is $O(n)$. I don't think we can do better than this in terms of space complexity."
   ]
  },
  {
   "cell_type": "code",
   "execution_count": 19,
   "metadata": {},
   "outputs": [],
   "source": [
    "import matplotlib.pyplot as plt\n",
    "from tqdm import tqdm, trange  # for a cool looking loading bar"
   ]
  },
  {
   "cell_type": "code",
   "execution_count": 20,
   "metadata": {},
   "outputs": [],
   "source": [
    "def dot_product(A, b):\n",
    "    # here A is a function and b is a vector\n",
    "    n = len(b)\n",
    "    result = []\n",
    "    for i in range(n):\n",
    "        dot_product_sum = 0\n",
    "        for j in range(n):\n",
    "            dot_product_sum += A(i, j) * b[j]\n",
    "        result.append(dot_product_sum)\n",
    "    return result\n",
    "\n",
    "def conjugate_gradient_nostore(A, b, x0, tol=1e-4, max_iter=None):\n",
    "    n = len(b)\n",
    "    x = x0.copy()\n",
    "    r = b - dot_product(A, x)\n",
    "    p = r.copy()\n",
    "    iter_count = 0\n",
    "\n",
    "    residues = []\n",
    "    while True:\n",
    "        iter_count += 1\n",
    "        Ap = dot_product(A, p)\n",
    "        alpha = np.dot(r.T, r) / np.dot(p.T, Ap)\n",
    "        x += alpha * p\n",
    "        r_next = r - alpha * Ap\n",
    "        residues.append(np.linalg.norm(r_next))\n",
    "        if np.linalg.norm(r_next) < tol:\n",
    "            break\n",
    "        beta = np.dot(r_next.T, r_next) / np.dot(r.T, r)\n",
    "        p = r_next + beta * p\n",
    "        r = r_next\n",
    "\n",
    "        if max_iter is not None and iter_count >= max_iter:\n",
    "            break\n",
    "\n",
    "    return x, iter_count, residues"
   ]
  },
  {
   "cell_type": "markdown",
   "metadata": {},
   "source": [
    "Although the function `conjugate_gradient_nostore` returns the solution to the equation (actually matrix inverse), we are not storing it, because it defeats the whole purpose of not storing the matrix. The space needed to store the $A^{-1}$ matrix is also $n^2$. So, we are not storing it. We are just using the residue because that was the target."
   ]
  },
  {
   "cell_type": "code",
   "execution_count": 21,
   "metadata": {},
   "outputs": [
    {
     "name": "stderr",
     "output_type": "stream",
     "text": [
      "100%|██████████| 50/50 [00:13<00:00,  3.63it/s]\n"
     ]
    }
   ],
   "source": [
    "n = 50\n",
    "m = 0.2\n",
    "def delta(i, j):\n",
    "    return 1 if i == j else 0\n",
    "\n",
    "def A_(i, j, mu=1, m=m):\n",
    "    return 0.5 * (\n",
    "        delta(i+mu, j)\n",
    "      + delta(i-mu, j)\n",
    "      - 2*delta(i, j)\n",
    "    ) + m**2 * delta(i, j) if not ((i == 0 and j == n-1) or (i == n-1 and j == 0)) else 0.5\n",
    "\n",
    "all_residues = []\n",
    "\n",
    "for i in trange(n):\n",
    "    Bi = np.zeros((n, 1))\n",
    "    Bi[i, 0] = 1\n",
    "    x, ite, residues = conjugate_gradient_nostore(A_, Bi, x0=np.random.rand(n, 1), tol=1e-4, max_iter=100)\n",
    "    # here we are not storing the x values to make the A_inv matrix, as explained above\n",
    "    all_residues.append(residues)\n",
    "\n",
    "\n",
    "all_residues = np.array(all_residues)"
   ]
  },
  {
   "cell_type": "code",
   "execution_count": 22,
   "metadata": {},
   "outputs": [
    {
     "data": {
      "text/plain": [
       "Text(0, 0.5, 'residue')"
      ]
     },
     "execution_count": 22,
     "metadata": {},
     "output_type": "execute_result"
    },
    {
     "data": {
      "image/png": "[encoded data removed]",
      "text/plain": [
       "<Figure size 640x480 with 1 Axes>"
      ]
     },
     "metadata": {},
     "output_type": "display_data"
    }
   ],
   "source": [
    "plt.plot(all_residues.T)\n",
    "# plt.xscale(\"log\")\n",
    "plt.ylim(0, 1)\n",
    "plt.plot(all_residues.mean(axis=0), \"k-\", label=\"mean residue\", linewidth=3)\n",
    "plt.legend()\n",
    "plt.grid()\n",
    "plt.xlabel(\"iteration\")\n",
    "plt.ylabel(\"residue\")"
   ]
  }
 ],
 "metadata": {
  "kernelspec": {
   "display_name": ".comp",
   "language": "python",
   "name": "python3"
  },
  "language_info": {
   "codemirror_mode": {
    "name": "ipython",
    "version": 3
   },
   "file_extension": ".py",
   "mimetype": "text/x-python",
   "name": "python",
   "nbconvert_exporter": "python",
   "pygments_lexer": "ipython3",
   "version": "3.10.12"
  }
 },
 "nbformat": 4,
 "nbformat_minor": 2
}
