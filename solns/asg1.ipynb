{
 "cells": [
  {
   "cell_type": "code",
   "execution_count": null,
   "metadata": {},
   "outputs": [],
   "source": []
  },
  {
   "cell_type": "markdown",
   "metadata": {},
   "source": [
    "# Q1:\n",
    "\n",
    "**Solve exp(−x) − x = 0 using fixed-point method, accurate up to 4 places in decimal.**\n",
    "\n",
    "$$\n",
    "e^{-x} -x = 0\n",
    "$$\n",
    "\n",
    "Solving the given equation is equivalent to solving this equation:\n",
    "$$\n",
    "x = e^{-x}\n",
    "$$\n",
    "\n",
    "according to the fixed point method, let our function $\\phi(x)$ be:\n",
    "\n",
    "$$\n",
    "\\phi(x) = e^{-x}\n",
    "$$\n",
    "\n",
    "**Note:** The used `Eqn.fixed_point_iteration` function can be found in the [equation.jl](../library/equation.jl) file."
   ]
  }
 ],
 "metadata": {
  "language_info": {
   "name": "python"
  }
 },
 "nbformat": 4,
 "nbformat_minor": 2
}
