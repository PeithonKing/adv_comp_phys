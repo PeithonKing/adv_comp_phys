{
 "cells": [
  {
   "cell_type": "code",
   "execution_count": 1,
   "metadata": {},
   "outputs": [
    {
     "data": {
      "text/plain": [
       "fixed_point_iteration (generic function with 3 methods)"
      ]
     },
     "metadata": {},
     "output_type": "display_data"
    }
   ],
   "source": [
    "include(\"library/utils.jl\")\n",
    "include(\"library/eqn.jl\")"
   ]
  },
  {
   "cell_type": "markdown",
   "metadata": {},
   "source": [
    "# Q1\n",
    "Solving the given equation is equivalent to solving this equation:\n",
    "$$\n",
    "x = e^{-x}\n",
    "$$"
   ]
  },
  {
   "cell_type": "code",
   "execution_count": 7,
   "metadata": {},
   "outputs": [
    {
     "name": "stdout",
     "output_type": "stream",
     "text": [
      "Fixed point iteration: 0.5671\n"
     ]
    }
   ],
   "source": [
    "function f(x)\n",
    "    return exp(-x)\n",
    "end\n",
    "\n",
    "ans = fixed_point_iteration(f, 1)\n",
    "print(\"Fixed point iteration: \")\n",
    "println(truncate_to_decimal_places(ans, 4))"
   ]
  },
  {
   "cell_type": "code",
   "execution_count": null,
   "metadata": {},
   "outputs": [],
   "source": []
  }
 ],
 "metadata": {
  "kernelspec": {
   "display_name": "Julia 1.8.1",
   "language": "julia",
   "name": "julia-1.8"
  },
  "language_info": {
   "file_extension": ".jl",
   "mimetype": "application/julia",
   "name": "julia",
   "version": "1.8.1"
  }
 },
 "nbformat": 4,
 "nbformat_minor": 2
}
